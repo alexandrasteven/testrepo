{
 "cells": [
  {
   "cell_type": "markdown",
   "id": "67fec9bf-91fd-4576-826b-e91e8891b2b1",
   "metadata": {},
   "source": [
    "# Data Science Tools and Ecosystem"
   ]
  },
  {
   "cell_type": "markdown",
   "id": "c210a2fe-4ed2-4d93-9e62-91a2da047c82",
   "metadata": {},
   "source": [
    "In this notebook, Data Science Tools and Ecosystem are summarized"
   ]
  },
  {
   "cell_type": "markdown",
   "id": "a5dd90bf-03b9-4cea-b2e4-6158b08d4520",
   "metadata": {},
   "source": [
    "**Objectives:**  \n",
    "- List popular languages for Data Science \n",
    "- List commonly used libraries used by Data Scientists\n",
    "-  List Data Science Tools"
   ]
  },
  {
   "cell_type": "markdown",
   "id": "febe7340-bd1f-4917-b6be-187068676650",
   "metadata": {},
   "source": [
    "Some of the popular languages that Data Scientists use are: 1. Python 2. R 3. SQL"
   ]
  },
  {
   "cell_type": "markdown",
   "id": "6d4ef313-cee7-4762-856a-fbd92c5a1d75",
   "metadata": {},
   "source": [
    "Some of the commonly used libraries used by Data Scientists include: 1. Matplotlib 2. NumPy 3. Pandas"
   ]
  },
  {
   "cell_type": "markdown",
   "id": "79fdce88-7634-4771-86fb-e8a880dcd0fb",
   "metadata": {},
   "source": [
    "|Data Science Tools|\n",
    "|------------------|\n",
    "|Python|\n",
    "|R|\n",
    "|Java|"
   ]
  },
  {
   "cell_type": "markdown",
   "id": "235f3e62-751b-4a3c-a015-fc40c64b1c2a",
   "metadata": {},
   "source": [
    "### Below are a few examples of evaluating arithmetic expressions in Python"
   ]
  },
  {
   "cell_type": "code",
   "execution_count": 1,
   "id": "af4f3ec7-2788-4d14-bc0a-a3d45454f395",
   "metadata": {},
   "outputs": [
    {
     "data": {
      "text/plain": [
       "17"
      ]
     },
     "execution_count": 1,
     "metadata": {},
     "output_type": "execute_result"
    }
   ],
   "source": [
    "#This is a simple arithmetic expression to multiply then add integers\n",
    "(3*4)+5"
   ]
  },
  {
   "cell_type": "code",
   "execution_count": 2,
   "id": "35cd8b20-1a77-48b0-a209-e9935ef22ebd",
   "metadata": {},
   "outputs": [
    {
     "data": {
      "text/plain": [
       "3.3333333333333335"
      ]
     },
     "execution_count": 2,
     "metadata": {},
     "output_type": "execute_result"
    }
   ],
   "source": [
    "#This will convert 200 minutes to hours by diving by 60\n",
    "200/60"
   ]
  },
  {
   "cell_type": "code",
   "execution_count": null,
   "id": "35019247-80f1-41b6-a6b1-ad86bbf093b7",
   "metadata": {},
   "outputs": [],
   "source": []
  }
 ],
 "metadata": {
  "kernelspec": {
   "display_name": "Python 3 (ipykernel)",
   "language": "python",
   "name": "python3"
  },
  "language_info": {
   "codemirror_mode": {
    "name": "ipython",
    "version": 3
   },
   "file_extension": ".py",
   "mimetype": "text/x-python",
   "name": "python",
   "nbconvert_exporter": "python",
   "pygments_lexer": "ipython3",
   "version": "3.12.8"
  }
 },
 "nbformat": 4,
 "nbformat_minor": 5
}
